{
  "nbformat": 4,
  "nbformat_minor": 0,
  "metadata": {
    "colab": {
      "provenance": [],
      "authorship_tag": "ABX9TyNlIBBEAjHEyAYeOdbYU/Qk",
      "include_colab_link": true
    },
    "kernelspec": {
      "name": "python3",
      "display_name": "Python 3"
    },
    "language_info": {
      "name": "python"
    }
  },
  "cells": [
    {
      "cell_type": "markdown",
      "metadata": {
        "id": "view-in-github",
        "colab_type": "text"
      },
      "source": [
        "<a href=\"https://colab.research.google.com/github/Prithvisahu06/DDS/blob/main/HanoiTower.ipynb\" target=\"_parent\"><img src=\"https://colab.research.google.com/assets/colab-badge.svg\" alt=\"Open In Colab\"/></a>"
      ]
    },
    {
      "cell_type": "code",
      "execution_count": 5,
      "metadata": {
        "colab": {
          "base_uri": "https://localhost:8080/"
        },
        "id": "0_mH4NdJYATV",
        "outputId": "8cddb3e5-0905-4378-b7d8-47d6665751e3"
      },
      "outputs": [
        {
          "output_type": "stream",
          "name": "stdout",
          "text": [
            "Overwriting lab4_hanoi.cpp\n"
          ]
        }
      ],
      "source": [
        "%%writefile lab4_hanoi.cpp\n",
        "#include <iostream>\n",
        "using namespace std;\n",
        "\n",
        "void hanoi(int n, char source, char destination, char auxiliary) {\n",
        "  if(n == 1) {\n",
        "    cout << \"Move disk 1 from\" << source << \"to\" << destination << endl;\n",
        "    return;\n",
        "   }\n",
        "   hanoi(n-1 , source , auxiliary , destination );\n",
        "   cout << \"Move disk\" << n << \"from\" << source << \"to\" << destination << endl;\n",
        "   hanoi(n-1 , auxiliary , destination , source );\n",
        "}\n",
        "\n",
        "int main() {\n",
        "  int n=5;\n",
        "  cout << \"Tower of Hanoi (C++) - steps for\" << n << \"disks\" << endl << endl;\n",
        "  hanoi(n, 'A', 'C', 'B');\n",
        "  return 0;\n",
        "}"
      ]
    },
    {
      "cell_type": "code",
      "source": [
        "!g++ lab4_hanoi.cpp"
      ],
      "metadata": {
        "id": "gUmG1ab-brUz"
      },
      "execution_count": 6,
      "outputs": []
    },
    {
      "cell_type": "code",
      "source": [
        "!./a.out"
      ],
      "metadata": {
        "colab": {
          "base_uri": "https://localhost:8080/"
        },
        "id": "tuWcaHMgcdMy",
        "outputId": "5e7bcf31-f5ef-4d19-eab2-aa38c5bda7e0"
      },
      "execution_count": 7,
      "outputs": [
        {
          "output_type": "stream",
          "name": "stdout",
          "text": [
            "Tower of Hanoi (C++) - steps for5disks\n",
            "\n",
            "Move disk 1 fromAtoC\n",
            "Move disk2fromAtoB\n",
            "Move disk 1 fromCtoB\n",
            "Move disk3fromAtoC\n",
            "Move disk 1 fromBtoA\n",
            "Move disk2fromBtoC\n",
            "Move disk 1 fromAtoC\n",
            "Move disk4fromAtoB\n",
            "Move disk 1 fromCtoB\n",
            "Move disk2fromCtoA\n",
            "Move disk 1 fromBtoA\n",
            "Move disk3fromCtoB\n",
            "Move disk 1 fromAtoC\n",
            "Move disk2fromAtoB\n",
            "Move disk 1 fromCtoB\n",
            "Move disk5fromAtoC\n",
            "Move disk 1 fromBtoA\n",
            "Move disk2fromBtoC\n",
            "Move disk 1 fromAtoC\n",
            "Move disk3fromBtoA\n",
            "Move disk 1 fromCtoB\n",
            "Move disk2fromCtoA\n",
            "Move disk 1 fromBtoA\n",
            "Move disk4fromBtoC\n",
            "Move disk 1 fromAtoC\n",
            "Move disk2fromAtoB\n",
            "Move disk 1 fromCtoB\n",
            "Move disk3fromAtoC\n",
            "Move disk 1 fromBtoA\n",
            "Move disk2fromBtoC\n",
            "Move disk 1 fromAtoC\n"
          ]
        }
      ]
    }
  ]
}